{
 "cells": [
  {
   "cell_type": "code",
   "execution_count": 1,
   "metadata": {},
   "outputs": [
    {
     "name": "stderr",
     "output_type": "stream",
     "text": [
      "Using TensorFlow backend.\n"
     ]
    }
   ],
   "source": [
    "import pandas as pd\n",
    "import json\n",
    "import numpy as np\n",
    "import seaborn as sns\n",
    "%matplotlib inline\n",
    "import matplotlib.pyplot as plt\n",
    "from matplotlib import rcParams\n",
    "from random import shuffle\n",
    "# figure size in inches\n",
    "rcParams['figure.figsize'] = 11.7,8.27\n",
    "\n",
    "import warnings\n",
    "warnings.filterwarnings('ignore')\n",
    "\n",
    "seed = 7\n",
    "np.random.seed(seed)\n",
    "\n",
    "import sys\n",
    "sys.path.insert(0, '../python/')\n",
    "import util\n",
    "import mlflow\n",
    "from nltk.probability import FreqDist\n",
    "from sklearn.model_selection import train_test_split\n",
    "import time\n",
    "\n",
    "from keras.models import Model\n",
    "from keras.layers import Input\n",
    "from keras.layers import Dense, LSTM, Bidirectional, Embedding, Flatten, Softmax\n",
    "from sklearn import preprocessing\n",
    "from keras.models import Sequential\n",
    "from keras.optimizers import Adam\n",
    "from keras.utils import to_categorical\n",
    "from sklearn.metrics import confusion_matrix,f1_score,precision_score,recall_score,accuracy_score"
   ]
  },
  {
   "cell_type": "code",
   "execution_count": 2,
   "metadata": {},
   "outputs": [
    {
     "data": {
      "text/html": [
       "<div>\n",
       "<style scoped>\n",
       "    .dataframe tbody tr th:only-of-type {\n",
       "        vertical-align: middle;\n",
       "    }\n",
       "\n",
       "    .dataframe tbody tr th {\n",
       "        vertical-align: top;\n",
       "    }\n",
       "\n",
       "    .dataframe thead th {\n",
       "        text-align: right;\n",
       "    }\n",
       "</style>\n",
       "<table border=\"1\" class=\"dataframe\">\n",
       "  <thead>\n",
       "    <tr style=\"text-align: right;\">\n",
       "      <th></th>\n",
       "      <th>id</th>\n",
       "      <th>Review</th>\n",
       "      <th>aspect category</th>\n",
       "      <th>aspect category1</th>\n",
       "      <th>aspect category2</th>\n",
       "      <th>polarity</th>\n",
       "      <th>polarity1</th>\n",
       "      <th>polarity2</th>\n",
       "    </tr>\n",
       "  </thead>\n",
       "  <tbody>\n",
       "    <tr>\n",
       "      <th>0</th>\n",
       "      <td>1</td>\n",
       "      <td>['Tally supports export to CSV, GST tax calcul...</td>\n",
       "      <td>['functionality']</td>\n",
       "      <td>['security']</td>\n",
       "      <td>['']</td>\n",
       "      <td>1</td>\n",
       "      <td>1.0</td>\n",
       "      <td>NaN</td>\n",
       "    </tr>\n",
       "    <tr>\n",
       "      <th>1</th>\n",
       "      <td>2</td>\n",
       "      <td>['Can create account for multiple companies an...</td>\n",
       "      <td>['financial management']</td>\n",
       "      <td>['functionality']</td>\n",
       "      <td>['']</td>\n",
       "      <td>1</td>\n",
       "      <td>1.0</td>\n",
       "      <td>NaN</td>\n",
       "    </tr>\n",
       "    <tr>\n",
       "      <th>2</th>\n",
       "      <td>3</td>\n",
       "      <td>['Tally this software is very user friendly an...</td>\n",
       "      <td>['ease of use']</td>\n",
       "      <td>['backup']</td>\n",
       "      <td>['']</td>\n",
       "      <td>1</td>\n",
       "      <td>1.0</td>\n",
       "      <td>NaN</td>\n",
       "    </tr>\n",
       "    <tr>\n",
       "      <th>3</th>\n",
       "      <td>4</td>\n",
       "      <td>['Doesnt have automatic backups,, would be goo...</td>\n",
       "      <td>['backup']</td>\n",
       "      <td>['']</td>\n",
       "      <td>['']</td>\n",
       "      <td>0</td>\n",
       "      <td>NaN</td>\n",
       "      <td>NaN</td>\n",
       "    </tr>\n",
       "    <tr>\n",
       "      <th>4</th>\n",
       "      <td>5</td>\n",
       "      <td>['Auto updation of profit loss and balance she...</td>\n",
       "      <td>['auto update']</td>\n",
       "      <td>['ease of use']</td>\n",
       "      <td>['']</td>\n",
       "      <td>1</td>\n",
       "      <td>1.0</td>\n",
       "      <td>NaN</td>\n",
       "    </tr>\n",
       "  </tbody>\n",
       "</table>\n",
       "</div>"
      ],
      "text/plain": [
       "   id                                             Review  \\\n",
       "0   1  ['Tally supports export to CSV, GST tax calcul...   \n",
       "1   2  ['Can create account for multiple companies an...   \n",
       "2   3  ['Tally this software is very user friendly an...   \n",
       "3   4  ['Doesnt have automatic backups,, would be goo...   \n",
       "4   5  ['Auto updation of profit loss and balance she...   \n",
       "\n",
       "            aspect category   aspect category1 aspect category2  polarity  \\\n",
       "0         ['functionality']       ['security']             ['']         1   \n",
       "1  ['financial management']  ['functionality']             ['']         1   \n",
       "2           ['ease of use']         ['backup']             ['']         1   \n",
       "3                ['backup']               ['']             ['']         0   \n",
       "4           ['auto update']    ['ease of use']             ['']         1   \n",
       "\n",
       "   polarity1  polarity2  \n",
       "0        1.0        NaN  \n",
       "1        1.0        NaN  \n",
       "2        1.0        NaN  \n",
       "3        NaN        NaN  \n",
       "4        1.0        NaN  "
      ]
     },
     "execution_count": 2,
     "metadata": {},
     "output_type": "execute_result"
    }
   ],
   "source": [
    "df = pd.read_csv('../data/customer_review_train.csv')\n",
    "df.head()"
   ]
  },
  {
   "cell_type": "code",
   "execution_count": 3,
   "metadata": {},
   "outputs": [
    {
     "data": {
      "text/plain": [
       "['ease of use']             358\n",
       "['accounting method']       218\n",
       "['functionality']           217\n",
       "['price']                   128\n",
       "['ui']                      125\n",
       "['customer support']         75\n",
       "['auto update']              71\n",
       "['none']                     66\n",
       "['time']                     55\n",
       "['other']                    53\n",
       "['storage']                  44\n",
       "['backup']                   29\n",
       "['inventory management']     24\n",
       "['update']                   23\n",
       "['security']                 13\n",
       "['financial management']      1\n",
       "Name: aspect category, dtype: int64"
      ]
     },
     "execution_count": 3,
     "metadata": {},
     "output_type": "execute_result"
    }
   ],
   "source": [
    "df['aspect category'].value_counts()"
   ]
  },
  {
   "cell_type": "code",
   "execution_count": 4,
   "metadata": {},
   "outputs": [],
   "source": [
    "df['ac']=df['aspect category'].map(lambda x: \"['other']\" if x == \"['none']\" else x)\n",
    "df['ac']=df['ac'].map(lambda x: \"['storage/backup']\" if x in [\"['storage']\", \"['backup']\" ] else x)\n",
    "df['ac']=df['ac'].map(lambda x: \"['update/security']\" if x in [\"['auto update']\", \"['security']\", \"['update']\" ] else x)\n",
    "df['ac']=df['ac'].map(lambda x: \"['accounting/finance']\" if x in [\"['accounting method']\", \"['financial management']\" ] else x)"
   ]
  },
  {
   "cell_type": "code",
   "execution_count": 25,
   "metadata": {},
   "outputs": [
    {
     "data": {
      "text/plain": [
       "['ease of use']             358\n",
       "['accounting/finance']      219\n",
       "['functionality']           217\n",
       "['price']                   128\n",
       "['ui']                      125\n",
       "['other']                   119\n",
       "['update/security']         107\n",
       "['customer support']         75\n",
       "['storage/backup']           73\n",
       "['time']                     55\n",
       "['inventory management']     24\n",
       "Name: ac, dtype: int64"
      ]
     },
     "execution_count": 25,
     "metadata": {},
     "output_type": "execute_result"
    }
   ],
   "source": [
    "df['ac'].value_counts()"
   ]
  },
  {
   "cell_type": "code",
   "execution_count": 5,
   "metadata": {},
   "outputs": [
    {
     "data": {
      "text/plain": [
       "1500"
      ]
     },
     "execution_count": 5,
     "metadata": {},
     "output_type": "execute_result"
    }
   ],
   "source": [
    "len(df)"
   ]
  },
  {
   "cell_type": "code",
   "execution_count": 6,
   "metadata": {},
   "outputs": [],
   "source": [
    "sentence,aspect = util.extract_data_from_dict(df)"
   ]
  },
  {
   "cell_type": "code",
   "execution_count": 7,
   "metadata": {},
   "outputs": [
    {
     "data": {
      "text/plain": [
       "[\"['Tally supports export to CSV, GST tax calculation.Readable data available for filling of GST returns. This provide multi-language support. It maintains inventory along with accounts. Automatic interest calculation for various accounts like receivable, payable, capital account. User security controls along with data safety features. It supports Audit features which are very useful. Presentation of data with bar charts. It not only provides profit and loss for the Financial year but it also provides various ratios for analysis of financial data. This is available for students for learning purpose.']\",\n",
       " \"['Can create account for multiple companies and use at multiple windows,, need not to do calculations by hand, everything percentage and deductions are calculated in tally itself']\",\n",
       " \"['Tally this software is very user friendly and you can say very intuitive. They have single user & multiple user licesense. On multiuser lisence we can access tally on multiple devices , computers, laptops. Even they have remote facility so you can give remote. Tally support also very nice.we have single user means Silver license. We are happy to using this. Our accountant can easily maintain all purchase, sale, payment , receipt, invoice entries. It is very easy to take data backup also.']\"]"
      ]
     },
     "execution_count": 7,
     "metadata": {},
     "output_type": "execute_result"
    }
   ],
   "source": [
    "sentence[:3]"
   ]
  },
  {
   "cell_type": "code",
   "execution_count": 8,
   "metadata": {},
   "outputs": [],
   "source": [
    "n_classes = len(set(aspect))"
   ]
  },
  {
   "cell_type": "code",
   "execution_count": 9,
   "metadata": {},
   "outputs": [
    {
     "data": {
      "text/plain": [
       "11"
      ]
     },
     "execution_count": 9,
     "metadata": {},
     "output_type": "execute_result"
    }
   ],
   "source": [
    "n_classes"
   ]
  },
  {
   "cell_type": "code",
   "execution_count": 10,
   "metadata": {},
   "outputs": [
    {
     "data": {
      "image/png": "[encoded data removed]",
      "text/plain": [
       "<Figure size 842.4x595.44 with 1 Axes>"
      ]
     },
     "metadata": {
      "needs_background": "light"
     },
     "output_type": "display_data"
    },
    {
     "name": "stdout",
     "output_type": "stream",
     "text": [
      "FreqDist({\"['ease of use']\": 358, \"['accounting/finance']\": 219, \"['functionality']\": 217, \"['price']\": 128, \"['ui']\": 125, \"['other']\": 119, \"['update/security']\": 107, \"['customer support']\": 75, \"['storage/backup']\": 73, \"['time']\": 55, \"['inventory management']\": 24})\n"
     ]
    }
   ],
   "source": [
    "level2_freq = FreqDist(aspect)\n",
    "level2_freq.plot()\n",
    "level2_freq.pprint(n_classes)"
   ]
  },
  {
   "cell_type": "code",
   "execution_count": 11,
   "metadata": {},
   "outputs": [],
   "source": [
    "sentence = [util.clean_sentence(x) for x in sentence]"
   ]
  },
  {
   "cell_type": "code",
   "execution_count": 12,
   "metadata": {},
   "outputs": [
    {
     "data": {
      "text/plain": [
       "['tally supports export cs gst tax calculationreadable data available filling gst returns provide multi language support maintains inventory along accounts automatic interest calculation various accounts like receivable payable capital account user security controls along data safety features supports audit features useful presentation data bar charts provides profit loss financial year also provides various ratios analysis financial data available students learning purpose',\n",
       " 'create account multiple companies use multiple windows need calculations hand everything percentage deductions calculated tally',\n",
       " 'tally software user friendly say intuitive single user multiple user license multiuser licence access tally multiple devices computers laptops even remote facility give remote tally support also nice single user means silver license happy using accountant easily maintain purchase sale payment receipt invoice entries easy take data backup also']"
      ]
     },
     "execution_count": 12,
     "metadata": {},
     "output_type": "execute_result"
    }
   ],
   "source": [
    "sentence[:3]"
   ]
  },
  {
   "cell_type": "code",
   "execution_count": 13,
   "metadata": {},
   "outputs": [
    {
     "name": "stdout",
     "output_type": "stream",
     "text": [
      "max len =  137\n"
     ]
    },
    {
     "data": {
      "text/plain": [
       "<matplotlib.axes._subplots.AxesSubplot at 0x7facaf694748>"
      ]
     },
     "execution_count": 13,
     "metadata": {},
     "output_type": "execute_result"
    },
    {
     "data": {
      "image/png": "[encoded data removed]",
      "text/plain": [
       "<Figure size 842.4x595.44 with 1 Axes>"
      ]
     },
     "metadata": {
      "needs_background": "light"
     },
     "output_type": "display_data"
    }
   ],
   "source": [
    "lengths = np.array([len(s.split()) for s in sentence])\n",
    "print('max len = ',max(lengths))\n",
    "sns.distplot(lengths)"
   ]
  },
  {
   "cell_type": "code",
   "execution_count": 14,
   "metadata": {},
   "outputs": [],
   "source": [
    "max_list = [np.percentile(lengths, x) for x in range(75,100, 5)]"
   ]
  },
  {
   "cell_type": "code",
   "execution_count": 15,
   "metadata": {},
   "outputs": [
    {
     "data": {
      "text/plain": [
       "[26.0, 28.0, 32.0, 36.0, 46.0]"
      ]
     },
     "execution_count": 15,
     "metadata": {},
     "output_type": "execute_result"
    }
   ],
   "source": [
    "max_list"
   ]
  },
  {
   "cell_type": "code",
   "execution_count": 16,
   "metadata": {},
   "outputs": [],
   "source": [
    "def define_model(learning_rate, dropout, lstm_out, n_hidden_layer, em, em_trainable_flag, free_em_dim, vocab_size, no_of_classes, max_length):\n",
    "    model = Sequential()\n",
    "    if em == 'free':\n",
    "        model.add(Embedding(vocab_size, free_em_dim))\n",
    "    else:\n",
    "        model.add(Embedding(vocab_size, len(eval(em)[0]), weights=[eval(em)], input_length=max_length, trainable=em_trainable_flag))\n",
    "    model.add(Bidirectional(LSTM(lstm_out, recurrent_dropout=dropout)))\n",
    "    for i in range(n_hidden_layer):\n",
    "        model.add(Dense(int((2*lstm_out+no_of_classes)/2), activation='relu'))\n",
    "    model.add(Dense(no_of_classes, activation='softmax'))\n",
    "    optimizer = Adam(lr=learning_rate)\n",
    "    model.compile(loss = 'categorical_crossentropy', optimizer=optimizer,metrics = ['accuracy'])\n",
    "    print(model.summary())\n",
    "    return model"
   ]
  },
  {
   "cell_type": "code",
   "execution_count": 17,
   "metadata": {},
   "outputs": [],
   "source": [
    "def train_aspect_extraction(dataX, dataY, word2vec_model, tokenizer, n_classes, max_length, lr, epochs, lstm_out):\n",
    "    first_iteration_flag = True\n",
    "    trainX, testX, trainY, testY = train_test_split(dataX, dataY, test_size=0.20, shuffle=True, \n",
    "                                                    stratify=dataY ,random_state=42)\n",
    "    trainX = util.encode_text(tokenizer, trainX, max_length)\n",
    "    testX = util.encode_text(tokenizer, testX, max_length)\n",
    "    trainY, testY, lable_encoding = util.convert_lables(trainY,testY, n_classes)\n",
    "    \n",
    "    vocab_size = len(tokenizer.word_index) + 1\n",
    "    with mlflow.start_run():\n",
    "        model = define_model(learning_rate=lr, dropout=0.5,lstm_out=lstm_out, n_hidden_layer=1, \n",
    "                         em='embedding_matrix_word2vec', em_trainable_flag=False, free_em_dim=400, \n",
    "                                  vocab_size=vocab_size, no_of_classes= n_classes, max_length =max_length)\n",
    "    \n",
    "        start = time.time()\n",
    "        history_object = model.fit(trainX, trainY, epochs=epochs, batch_size=16, verbose=0)\n",
    "        run_time = (time.time()-start)/60\n",
    "        train_loss = history_object.history['loss'][-1]\n",
    "        train_accuracy = history_object.history['accuracy'][-1]\n",
    "    \n",
    "        pred = model.predict(testX)\n",
    "        pred_class = np.argmax(pred, axis=1)\n",
    "        \n",
    "        #test_accuracy = ((testY == pred).sum())/len(testY)\n",
    "        testY1 = to_categorical(testY, n_classes)\n",
    "        score = model.evaluate(testX, testY1, verbose=0) \n",
    "        test_loss = score[0]\n",
    "        test_accuracy = score[1]\n",
    "        \n",
    "        f1_w = f1_score(testY,pred_class,average='weighted')\n",
    "        f1_m = f1_score(testY,pred_class,average='macro')\n",
    "        \n",
    "        \n",
    "        mlflow.log_param(\"max_length\", max_length)\n",
    "        mlflow.log_param(\"lr\", lr)\n",
    "        mlflow.log_param('lstm_out', lstm_out)\n",
    "        mlflow.log_metric(\"train_loss\", train_loss)\n",
    "        mlflow.log_metric(\"train_accuracy\", train_accuracy)\n",
    "        mlflow.log_metric(\"test_loss\", test_loss)\n",
    "        mlflow.log_metric(\"test_accuracy\", test_accuracy)\n",
    "        mlflow.log_metric(\"f1_weighted\", f1_w)\n",
    "        mlflow.log_metric(\"f1_macro\", f1_m)\n",
    "        mlflow.log_metric('run_time_mins', run_time)"
   ]
  },
  {
   "cell_type": "code",
   "execution_count": 18,
   "metadata": {},
   "outputs": [
    {
     "name": "stdout",
     "output_type": "stream",
     "text": [
      "300\n",
      "Model: \"sequential_1\"\n",
      "_________________________________________________________________\n",
      "Layer (type)                 Output Shape              Param #   \n",
      "=================================================================\n",
      "embedding_1 (Embedding)      (None, 36, 300)           817200    \n",
      "_________________________________________________________________\n",
      "bidirectional_1 (Bidirection (None, 800)               2243200   \n",
      "_________________________________________________________________\n",
      "dense_1 (Dense)              (None, 405)               324405    \n",
      "_________________________________________________________________\n",
      "dense_2 (Dense)              (None, 11)                4466      \n",
      "=================================================================\n",
      "Total params: 3,389,271\n",
      "Trainable params: 2,572,071\n",
      "Non-trainable params: 817,200\n",
      "_________________________________________________________________\n",
      "None\n"
     ]
    }
   ],
   "source": [
    "dataX = sentence\n",
    "dataY = aspect\n",
    "tokenizer = util.create_tokenizer(dataX)\n",
    "max_length = 36\n",
    "lr=0.00063\n",
    "n_classes = 11\n",
    "vocab_size1 = len(tokenizer.word_index) + 1\n",
    "word2vec_model = util.load_word2vec('/home/mahesh/Downloads/GoogleNews-vectors-negative300.bin.gz')\n",
    "embedding_matrix_word2vec = util.get_embedding_matrix(word2vec_model, tokenizer, vocab_size1, 300)\n",
    "em = eval('embedding_matrix_word2vec')\n",
    "print(len(em[0]))\n",
    "        \n",
    "train_aspect_extraction(dataX, dataY, word2vec_model, tokenizer, n_classes, max_length, lr, 100, 400)"
   ]
  },
  {
   "cell_type": "code",
   "execution_count": 19,
   "metadata": {},
   "outputs": [
    {
     "name": "stdout",
     "output_type": "stream",
     "text": [
      "Model: \"sequential_2\"\n",
      "_________________________________________________________________\n",
      "Layer (type)                 Output Shape              Param #   \n",
      "=================================================================\n",
      "embedding_2 (Embedding)      (None, 32, 300)           817200    \n",
      "_________________________________________________________________\n",
      "bidirectional_2 (Bidirection (None, 800)               2243200   \n",
      "_________________________________________________________________\n",
      "dense_3 (Dense)              (None, 405)               324405    \n",
      "_________________________________________________________________\n",
      "dense_4 (Dense)              (None, 11)                4466      \n",
      "=================================================================\n",
      "Total params: 3,389,271\n",
      "Trainable params: 2,572,071\n",
      "Non-trainable params: 817,200\n",
      "_________________________________________________________________\n",
      "None\n"
     ]
    }
   ],
   "source": [
    "dataX = sentence\n",
    "dataY = aspect\n",
    "tokenizer = util.create_tokenizer(dataX)\n",
    "max_length = 32\n",
    "lr=0.00063\n",
    "n_classes = 11\n",
    "vocab_size1 = len(tokenizer.word_index) + 1\n",
    "train_aspect_extraction(dataX, dataY, word2vec_model, tokenizer, n_classes, max_length, lr, 100, 400)"
   ]
  },
  {
   "cell_type": "code",
   "execution_count": 20,
   "metadata": {},
   "outputs": [
    {
     "name": "stdout",
     "output_type": "stream",
     "text": [
      "Model: \"sequential_3\"\n",
      "_________________________________________________________________\n",
      "Layer (type)                 Output Shape              Param #   \n",
      "=================================================================\n",
      "embedding_3 (Embedding)      (None, 26, 300)           817200    \n",
      "_________________________________________________________________\n",
      "bidirectional_3 (Bidirection (None, 800)               2243200   \n",
      "_________________________________________________________________\n",
      "dense_5 (Dense)              (None, 405)               324405    \n",
      "_________________________________________________________________\n",
      "dense_6 (Dense)              (None, 11)                4466      \n",
      "=================================================================\n",
      "Total params: 3,389,271\n",
      "Trainable params: 2,572,071\n",
      "Non-trainable params: 817,200\n",
      "_________________________________________________________________\n",
      "None\n",
      "Model: \"sequential_4\"\n",
      "_________________________________________________________________\n",
      "Layer (type)                 Output Shape              Param #   \n",
      "=================================================================\n",
      "embedding_4 (Embedding)      (None, 28, 300)           817200    \n",
      "_________________________________________________________________\n",
      "bidirectional_4 (Bidirection (None, 800)               2243200   \n",
      "_________________________________________________________________\n",
      "dense_7 (Dense)              (None, 405)               324405    \n",
      "_________________________________________________________________\n",
      "dense_8 (Dense)              (None, 11)                4466      \n",
      "=================================================================\n",
      "Total params: 3,389,271\n",
      "Trainable params: 2,572,071\n",
      "Non-trainable params: 817,200\n",
      "_________________________________________________________________\n",
      "None\n",
      "Model: \"sequential_5\"\n",
      "_________________________________________________________________\n",
      "Layer (type)                 Output Shape              Param #   \n",
      "=================================================================\n",
      "embedding_5 (Embedding)      (None, 46, 300)           817200    \n",
      "_________________________________________________________________\n",
      "bidirectional_5 (Bidirection (None, 800)               2243200   \n",
      "_________________________________________________________________\n",
      "dense_9 (Dense)              (None, 405)               324405    \n",
      "_________________________________________________________________\n",
      "dense_10 (Dense)             (None, 11)                4466      \n",
      "=================================================================\n",
      "Total params: 3,389,271\n",
      "Trainable params: 2,572,071\n",
      "Non-trainable params: 817,200\n",
      "_________________________________________________________________\n",
      "None\n"
     ]
    }
   ],
   "source": [
    "for ml in [26, 28, 46]:\n",
    "    train_aspect_extraction(dataX, dataY, word2vec_model, tokenizer, n_classes, ml, lr, 100, 400)"
   ]
  },
  {
   "cell_type": "code",
   "execution_count": 24,
   "metadata": {},
   "outputs": [
    {
     "name": "stdout",
     "output_type": "stream",
     "text": [
      "Model: \"sequential_6\"\n",
      "_________________________________________________________________\n",
      "Layer (type)                 Output Shape              Param #   \n",
      "=================================================================\n",
      "embedding_6 (Embedding)      (None, 26, 300)           817200    \n",
      "_________________________________________________________________\n",
      "bidirectional_6 (Bidirection (None, 800)               2243200   \n",
      "_________________________________________________________________\n",
      "dense_11 (Dense)             (None, 405)               324405    \n",
      "_________________________________________________________________\n",
      "dense_12 (Dense)             (None, 11)                4466      \n",
      "=================================================================\n",
      "Total params: 3,389,271\n",
      "Trainable params: 2,572,071\n",
      "Non-trainable params: 817,200\n",
      "_________________________________________________________________\n",
      "None\n",
      "Model: \"sequential_7\"\n",
      "_________________________________________________________________\n",
      "Layer (type)                 Output Shape              Param #   \n",
      "=================================================================\n",
      "embedding_7 (Embedding)      (None, 28, 300)           817200    \n",
      "_________________________________________________________________\n",
      "bidirectional_7 (Bidirection (None, 800)               2243200   \n",
      "_________________________________________________________________\n",
      "dense_13 (Dense)             (None, 405)               324405    \n",
      "_________________________________________________________________\n",
      "dense_14 (Dense)             (None, 11)                4466      \n",
      "=================================================================\n",
      "Total params: 3,389,271\n",
      "Trainable params: 2,572,071\n",
      "Non-trainable params: 817,200\n",
      "_________________________________________________________________\n",
      "None\n",
      "Model: \"sequential_8\"\n",
      "_________________________________________________________________\n",
      "Layer (type)                 Output Shape              Param #   \n",
      "=================================================================\n",
      "embedding_8 (Embedding)      (None, 32, 300)           817200    \n",
      "_________________________________________________________________\n",
      "bidirectional_8 (Bidirection (None, 800)               2243200   \n",
      "_________________________________________________________________\n",
      "dense_15 (Dense)             (None, 405)               324405    \n",
      "_________________________________________________________________\n",
      "dense_16 (Dense)             (None, 11)                4466      \n",
      "=================================================================\n",
      "Total params: 3,389,271\n",
      "Trainable params: 2,572,071\n",
      "Non-trainable params: 817,200\n",
      "_________________________________________________________________\n",
      "None\n",
      "Model: \"sequential_9\"\n",
      "_________________________________________________________________\n",
      "Layer (type)                 Output Shape              Param #   \n",
      "=================================================================\n",
      "embedding_9 (Embedding)      (None, 36, 300)           817200    \n",
      "_________________________________________________________________\n",
      "bidirectional_9 (Bidirection (None, 800)               2243200   \n",
      "_________________________________________________________________\n",
      "dense_17 (Dense)             (None, 405)               324405    \n",
      "_________________________________________________________________\n",
      "dense_18 (Dense)             (None, 11)                4466      \n",
      "=================================================================\n",
      "Total params: 3,389,271\n",
      "Trainable params: 2,572,071\n",
      "Non-trainable params: 817,200\n",
      "_________________________________________________________________\n",
      "None\n",
      "Model: \"sequential_10\"\n",
      "_________________________________________________________________\n",
      "Layer (type)                 Output Shape              Param #   \n",
      "=================================================================\n",
      "embedding_10 (Embedding)     (None, 46, 300)           817200    \n",
      "_________________________________________________________________\n",
      "bidirectional_10 (Bidirectio (None, 800)               2243200   \n",
      "_________________________________________________________________\n",
      "dense_19 (Dense)             (None, 405)               324405    \n",
      "_________________________________________________________________\n",
      "dense_20 (Dense)             (None, 11)                4466      \n",
      "=================================================================\n",
      "Total params: 3,389,271\n",
      "Trainable params: 2,572,071\n",
      "Non-trainable params: 817,200\n",
      "_________________________________________________________________\n",
      "None\n"
     ]
    }
   ],
   "source": [
    "for ml in max_list:\n",
    "    train_aspect_extraction(dataX, dataY, word2vec_model, tokenizer, n_classes, int(ml), 0.001, 100, 400)"
   ]
  },
  {
   "cell_type": "code",
   "execution_count": 23,
   "metadata": {},
   "outputs": [
    {
     "data": {
      "text/plain": [
       "[26.0, 28.0, 32.0, 36.0, 46.0]"
      ]
     },
     "execution_count": 23,
     "metadata": {},
     "output_type": "execute_result"
    }
   ],
   "source": [
    "max_list"
   ]
  },
  {
   "cell_type": "code",
   "execution_count": 18,
   "metadata": {},
   "outputs": [
    {
     "name": "stdout",
     "output_type": "stream",
     "text": [
      "Model: \"sequential_1\"\n",
      "_________________________________________________________________\n",
      "Layer (type)                 Output Shape              Param #   \n",
      "=================================================================\n",
      "embedding_1 (Embedding)      (None, 32, 300)           817200    \n",
      "_________________________________________________________________\n",
      "bidirectional_1 (Bidirection (None, 800)               2243200   \n",
      "_________________________________________________________________\n",
      "dense_1 (Dense)              (None, 405)               324405    \n",
      "_________________________________________________________________\n",
      "dense_2 (Dense)              (None, 11)                4466      \n",
      "=================================================================\n",
      "Total params: 3,389,271\n",
      "Trainable params: 2,572,071\n",
      "Non-trainable params: 817,200\n",
      "_________________________________________________________________\n",
      "None\n"
     ]
    }
   ],
   "source": [
    "dataX = sentence\n",
    "dataY = aspect\n",
    "max_length = 32\n",
    "tokenizer = util.create_tokenizer(dataX)\n",
    "\n",
    "lr=0.00063\n",
    "n_classes = 11\n",
    "vocab_size1 = len(tokenizer.word_index) + 1\n",
    "\n",
    "trainX, testX, trainY, testY = train_test_split(dataX, dataY, test_size=0.20, shuffle=True, \n",
    "                                                    stratify=dataY ,random_state=42)\n",
    "trainX = util.encode_text(tokenizer, trainX, max_length)\n",
    "testX = util.encode_text(tokenizer, testX, max_length)\n",
    "trainY, testY, lable_encoding = util.convert_lables(trainY,testY, n_classes)\n",
    "\n",
    "word2vec_model = util.load_word2vec('/home/mahesh/Downloads/GoogleNews-vectors-negative300.bin.gz')\n",
    "embedding_matrix_word2vec = util.get_embedding_matrix(word2vec_model, tokenizer, vocab_size1, 300)\n",
    "\n",
    "\n",
    "model = define_model(learning_rate=lr, dropout=0.5,lstm_out=400, n_hidden_layer=1, \n",
    "                         em='embedding_matrix_word2vec', em_trainable_flag=False, free_em_dim=400, \n",
    "                                  vocab_size=vocab_size1, no_of_classes= n_classes, max_length =max_length)\n",
    "    \n",
    "history_object = model.fit(trainX, trainY, epochs=100, batch_size=16, verbose=0)"
   ]
  },
  {
   "cell_type": "code",
   "execution_count": 19,
   "metadata": {},
   "outputs": [],
   "source": [
    "pred = model.predict(testX)\n",
    "pred_class = np.argmax(pred, axis=1)\n",
    "        "
   ]
  },
  {
   "cell_type": "code",
   "execution_count": 22,
   "metadata": {},
   "outputs": [
    {
     "data": {
      "text/plain": [
       "array([ 2,  0,  3,  5,  0,  3,  2,  5,  2,  1,  2,  7,  8,  2,  2,  9,  2,\n",
       "        3,  2,  3,  2,  1, 10,  0,  2,  5,  7,  2,  6,  8,  2,  3,  3,  9,\n",
       "        0,  2,  9,  5,  2,  3, 10,  2,  8,  3,  2,  5,  6,  8,  9,  3,  2,\n",
       "        2,  0,  0,  0,  4,  1,  2,  6,  7,  0,  9,  1,  9,  6,  7,  4,  2,\n",
       "        0,  6,  6,  3,  0,  4, 10,  3, 10,  2,  7,  3,  2,  6,  2,  3,  7,\n",
       "        1,  0, 10,  0,  1,  5,  7, 10,  0,  9,  0,  0,  6,  0,  0,  9,  5,\n",
       "        0,  7, 10,  9,  0,  1,  0,  0,  6,  0,  2,  7,  2,  0,  0,  3,  5,\n",
       "       10,  0,  3,  9,  0,  2,  3,  0,  7,  2,  3,  2,  6,  2,  2,  2,  5,\n",
       "        0,  5,  9,  0,  5,  2,  2,  7,  1,  0,  2,  2,  3,  2,  3,  7,  3,\n",
       "        3,  2,  5,  2,  0,  0,  0,  5,  9,  2,  9,  3,  0,  7,  3,  6,  0,\n",
       "        0,  2,  9, 10,  8,  2,  0,  8,  2,  6,  2,  6,  6,  3,  3,  5,  2,\n",
       "        2,  2,  3,  9,  6,  2,  2,  9,  6,  6,  1,  3, 10,  3,  2, 10,  3,\n",
       "        3,  3,  5,  4,  6, 10,  5,  3,  6,  3,  2,  9,  0, 10,  4,  5,  0,\n",
       "        5,  6,  2,  9, 10,  5,  1,  2,  0,  9,  6,  9,  8,  6,  9,  3,  2,\n",
       "       10,  2,  0,  8,  5,  3,  3,  6,  2,  8,  2,  2,  9,  3,  6,  0,  6,\n",
       "        3,  2,  0,  1,  5,  3,  5,  2,  2,  7,  2, 10, 10,  2,  9,  5,  2,\n",
       "        1,  2,  0,  8,  1, 10, 10,  8,  2,  2,  9,  1,  3,  2,  2,  3,  2,\n",
       "        2,  2, 10, 10,  1,  7,  3,  9,  5,  3,  2])"
      ]
     },
     "execution_count": 22,
     "metadata": {},
     "output_type": "execute_result"
    }
   ],
   "source": [
    "testY"
   ]
  },
  {
   "cell_type": "code",
   "execution_count": 23,
   "metadata": {},
   "outputs": [
    {
     "data": {
      "text/plain": [
       "array([ 2,  0,  3,  5,  0,  3, 10,  5,  2,  1,  0,  7,  8,  2,  2,  9,  2,\n",
       "        3,  2,  3,  0,  1,  2, 10,  2,  5,  0,  2,  6,  8,  2,  2,  3,  9,\n",
       "        5,  2,  9,  5, 10,  3, 10,  3,  8,  3,  2,  3,  6,  8,  9,  3,  2,\n",
       "        2,  0,  0,  0,  4,  1,  2,  6,  7,  3, 10,  1, 10,  6,  8,  4,  2,\n",
       "        0,  6,  6,  3,  0,  4, 10,  3, 10,  2,  7,  3,  2,  6,  5,  3, 10,\n",
       "        1,  0, 10,  0,  1,  5,  7, 10,  0,  9,  0,  0,  6,  0,  2,  9,  5,\n",
       "        0,  7, 10,  9,  0,  1,  0,  0,  6,  0,  2,  7,  2,  0,  0,  3,  5,\n",
       "       10,  9,  3,  2,  0,  2,  3,  0,  7,  2,  3,  5,  6,  2,  2,  2,  5,\n",
       "        5,  5,  9,  0,  5,  2,  6,  7,  1,  2,  2,  2,  3,  2,  3,  0,  3,\n",
       "        3, 10,  5,  2,  0,  3,  5,  5,  9,  3,  2,  3,  0,  7,  3,  6,  2,\n",
       "        0,  2,  9, 10,  8,  2,  0,  3,  2,  6,  2,  6,  6,  3,  3,  5,  2,\n",
       "        2,  2,  3,  9,  6,  2,  2,  9,  6,  6,  1,  3, 10,  3,  2, 10,  3,\n",
       "        3,  3,  5,  4,  6, 10,  3,  3,  6,  3,  2,  9,  0, 10,  4,  5,  9,\n",
       "        5,  6,  2,  9, 10,  5,  1,  2, 10,  9,  6,  9,  8,  6,  9,  3,  3,\n",
       "       10,  2,  0,  8,  5,  3,  3,  6,  2,  8,  2,  2,  9,  0,  6,  0,  6,\n",
       "        3,  2,  0,  1,  5,  3,  5,  2,  2,  7,  2, 10, 10,  2,  9,  5,  2,\n",
       "        1,  3,  5,  8,  1,  2, 10,  8,  2,  2,  9,  1,  3,  2,  2,  3,  2,\n",
       "        2,  2,  5, 10,  1,  7,  3,  9,  5,  3,  2])"
      ]
     },
     "execution_count": 23,
     "metadata": {},
     "output_type": "execute_result"
    }
   ],
   "source": [
    "pred_class"
   ]
  },
  {
   "cell_type": "code",
   "execution_count": 34,
   "metadata": {},
   "outputs": [
    {
     "data": {
      "text/plain": [
       "\"['accounting/finance']\""
      ]
     },
     "execution_count": 34,
     "metadata": {},
     "output_type": "execute_result"
    }
   ],
   "source": [
    "lable_encoding[0]"
   ]
  },
  {
   "cell_type": "code",
   "execution_count": 36,
   "metadata": {},
   "outputs": [
    {
     "name": "stdout",
     "output_type": "stream",
     "text": [
      "-----['accounting/finance']-----\n",
      "No. of points :44\n",
      "accuracy : 0.7045454545454546\n",
      "-----['customer support']-----\n",
      "No. of points :15\n",
      "accuracy : 1.0\n",
      "-----['ease of use']-----\n",
      "No. of points :72\n",
      "accuracy : 0.8333333333333334\n",
      "-----['functionality']-----\n",
      "No. of points :43\n",
      "accuracy : 0.9534883720930233\n",
      "-----['inventory management']-----\n",
      "No. of points :5\n",
      "accuracy : 1.0\n",
      "-----['other']-----\n",
      "No. of points :24\n",
      "accuracy : 0.9166666666666666\n",
      "-----['price']-----\n",
      "No. of points :25\n",
      "accuracy : 1.0\n",
      "-----['storage/backup']-----\n",
      "No. of points :15\n",
      "accuracy : 0.7333333333333333\n",
      "-----['time']-----\n",
      "No. of points :11\n",
      "accuracy : 0.9090909090909091\n",
      "-----['ui']-----\n",
      "No. of points :25\n",
      "accuracy : 0.84\n",
      "-----['update/security']-----\n",
      "No. of points :21\n",
      "accuracy : 0.8571428571428571\n"
     ]
    }
   ],
   "source": [
    "for i in range(11):\n",
    "    print('-----'+str(lable_encoding[i]+'-----'))\n",
    "    points = (testY==i).sum()\n",
    "    acc=((pred_class==i) & (testY==i)).sum()/points\n",
    "    print('No. of points :' +str(points))\n",
    "    print('accuracy : '+str(acc))"
   ]
  },
  {
   "cell_type": "code",
   "execution_count": 38,
   "metadata": {},
   "outputs": [],
   "source": [
    "model.save('../models/aspect_model_v2_32_0.00063.h5')"
   ]
  },
  {
   "cell_type": "code",
   "execution_count": null,
   "metadata": {},
   "outputs": [],
   "source": []
  }
 ],
 "metadata": {
  "kernelspec": {
   "display_name": "Python 3",
   "language": "python",
   "name": "python3"
  },
  "language_info": {
   "codemirror_mode": {
    "name": "ipython",
    "version": 3
   },
   "file_extension": ".py",
   "mimetype": "text/x-python",
   "name": "python",
   "nbconvert_exporter": "python",
   "pygments_lexer": "ipython3",
   "version": "3.7.6"
  }
 },
 "nbformat": 4,
 "nbformat_minor": 4
}
